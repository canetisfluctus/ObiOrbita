{
 "cells": [
  {
   "attachments": {},
   "cell_type": "markdown",
   "metadata": {},
   "source": [
    "# Project Results \n",
    "\n",
    "Obi Orbita is a circular MIDI sequencer that can turn color and movement into rythms. It is based on the original [Orbita](https://orbita.playtronica.com/) by Playtronica and uses the same electronic components and color buttons.\n",
    "\n",
    "Our project, \"Orbita on a Budget\" (also known as OBI Orbita), aims to create a manual and design for the Orbita that can be built with a minimal budget and conventional tools. We plan to incorporate services like wood cutting services at the local hardware store and includes recycled wood in our design process. This concept prioritizes cost-efficiency over convenience or advanced functions, providing opportunities for quality improvement or specific function focus during the construction process.\n",
    "\n",
    "The idea to extend the Orbita by an OpenSource version is trying to extend the impact of the product and also offering a low-cost and low-tech alternative. The OBI Orbita should be easy to rebuild with common handtools and an afternoon of time. You can find the bill of materials for this project [here](https://github.com/hmschlesi/ObiOrbita/blob/main/Hardware/BOM_OBIOrbitarct.xlsx) together with some options where you could source the parts.\n",
    "\n",
    "See the sections below to get started.\n",
    "\n",
    "```{tableofcontents}\n",
    "```"
   ]
  }
 ],
 "metadata": {
  "kernelspec": {
   "display_name": "Python 3",
   "language": "python",
   "name": "python3"
  },
  "language_info": {
   "name": "python",
   "version": "3.9.13"
  },
  "orig_nbformat": 4,
  "vscode": {
   "interpreter": {
    "hash": "b7123bc9d5bf4081fb816108306e99e391948399f439eb667db7bc2d8c5ff993"
   }
  }
 },
 "nbformat": 4,
 "nbformat_minor": 2
}
