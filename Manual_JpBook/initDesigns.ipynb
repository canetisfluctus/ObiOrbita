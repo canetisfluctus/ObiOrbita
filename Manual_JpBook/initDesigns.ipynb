{
 "cells": [
  {
   "attachments": {},
   "cell_type": "markdown",
   "metadata": {},
   "source": [
    "# Initial Design Approaches\n",
    "\n",
    "During the brainstorming phase, two possible and realizable design approaches have been developed: The ObiOrbita and the OrbiTime.\n",
    "\n",
    "## ObiOrbita\n",
    "\n",
    "ObiOrbita is based on simplicity and a budget.\n",
    "\n",
    "## OrbiTime\n",
    "\n",
    "OrbiTime presents an upside-down approach of the original Orbita. Basically, it is a more creative solution approach\n",
    "\n",
    "## Selection\n",
    "\n",
    "Due to its easier implementability and fewer unknowns to consider, the ObiOrbita design approach was chosen. In the following sections, the approach and the implementation of a first open source hardware version of the ObiOrbita is described.\n",
    "\n",
    "\n"
   ]
  },
  {
   "cell_type": "markdown",
   "metadata": {},
   "source": []
  }
 ],
 "metadata": {
  "kernelspec": {
   "display_name": "Python 3",
   "language": "python",
   "name": "python3"
  },
  "language_info": {
   "codemirror_mode": {
    "name": "ipython",
    "version": 3
   },
   "file_extension": ".py",
   "mimetype": "text/x-python",
   "name": "python",
   "nbconvert_exporter": "python",
   "pygments_lexer": "ipython3",
   "version": "3.9.13"
  },
  "vscode": {
   "interpreter": {
    "hash": "b7123bc9d5bf4081fb816108306e99e391948399f439eb667db7bc2d8c5ff993"
   }
  },
  "widgets": {
   "application/vnd.jupyter.widget-state+json": {
    "state": {},
    "version_major": 2,
    "version_minor": 0
   }
  }
 },
 "nbformat": 4,
 "nbformat_minor": 4
}
