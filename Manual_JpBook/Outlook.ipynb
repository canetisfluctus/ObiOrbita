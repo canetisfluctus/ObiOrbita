{
 "cells": [
  {
   "attachments": {},
   "cell_type": "markdown",
   "metadata": {},
   "source": [
    "# Outlook\n"
   ]
  },
  {
   "cell_type": "markdown",
   "metadata": {},
   "source": [
    "## Licensing Terms\n",
    "\n",
    "This project, including all its design files, documentation, and software, is licensed under the [CERN Open Hardware Licence Version 2 - Weakly Reciprocal (CERN-OHL-W-2.0)](https://ohwr.org/cern_ohl_w_v2.txt).\n",
    "\n",
    "As per the terms of this license, you may:\n",
    "\n",
    "- **Redistribute and use** the documentation, design files, and software with or without modifications.\n",
    "- **Create derivative works** for your use or to distribute, as long as you attribute the original work to us and license your derivative work under the same CERN OHL-W v2.0 license.\n",
    "\n",
    "This means that if you decide to distribute, sell, or produce hardware based on our designs, you should:\n",
    "\n",
    "- Provide clear attribution to our original work.\n",
    "- Include a copy of the CERN OHL-W v2.0 license with your work.\n",
    "- Also, make your modifications or derivative work available under the same CERN OHL-W v2.0 license.\n",
    "\n",
    "For the full details of the license, please refer to the complete [CERN-OHL-W-2.0](./LICENSE). SPDX identifier for this license is `CERN-OHL-W-2.0`.\n"
   ]
  },
  {
   "cell_type": "code",
   "execution_count": null,
   "metadata": {},
   "outputs": [],
   "source": []
  },
  {
   "cell_type": "code",
   "execution_count": null,
   "metadata": {},
   "outputs": [],
   "source": []
  }
 ],
 "metadata": {
  "kernelspec": {
   "display_name": "Python 3 (ipykernel)",
   "language": "python",
   "name": "python3"
  },
  "language_info": {
   "codemirror_mode": {
    "name": "ipython",
    "version": 3
   },
   "file_extension": ".py",
   "mimetype": "text/x-python",
   "name": "python",
   "nbconvert_exporter": "python",
   "pygments_lexer": "ipython3",
   "version": "3.10.6"
  }
 },
 "nbformat": 4,
 "nbformat_minor": 4
}
