{
 "cells": [
  {
   "attachments": {},
   "cell_type": "markdown",
   "metadata": {},
   "source": [
    "## Discussion and Outlook\n",
    "\n",
    "In developing the \"ObiOrbita\" project, we've navigated a series of challenges and opportunities. Our goal was to construct a cost-effective, user-friendly music interface and we've made significant strides in achieving that. As we went along, feedback and revisions were essential parts of this project and we went along by using platforms like GitHub.\n",
    "\n",
    "We've encountered a few limitations in this journey. High tolerance levels in our parts led to some assembly challenges, impacting the look and feel of the final product. Although affordability is at the heart of our project, it's important to acknowledge that the current design might not meet the demands of professional settings. The dual tasks of keeping our manuals up-to-date and ensuring material availability for ObiOrbita construction have been ongoing challenges.\n",
    "\n",
    "In reflecting on these limitations, we understand the scope for enhancements in our framework. Design adaptations for a higher budget bracket and addressing the availability of spare parts are potential areas of improvement. However, these improvements could impact cost-effectiveness, thereby posing a challenge to our core mission of affordability.\n",
    "\n",
    "Looking back, our project served as a blueprint for open, affordable, and user-friendly musical interfaces that satisfy standards of quality and openness. We believe that our efforts could spark creativity and inclusivity within the DIY communities and the wider public. \n",
    "\n"
   ]
  },
  {
   "cell_type": "markdown",
   "metadata": {},
   "source": [
   
   ]
  },
  {
   "cell_type": "markdown",
   "metadata": {},
   "source": [
    
    "\n",
    "\n"
   ]
  },
  {
   "cell_type": "code",
   "execution_count": null,
   "metadata": {},
   "outputs": [],
   "source": []
  }
 ],
 "metadata": {
  "kernelspec": {
   "display_name": "Python 3 (ipykernel)",
   "language": "python",
   "name": "python3"
  },
  "language_info": {
   "codemirror_mode": {
    "name": "ipython",
    "version": 3
   },
   "file_extension": ".py",
   "mimetype": "text/x-python",
   "name": "python",
   "nbconvert_exporter": "python",
   "pygments_lexer": "ipython3",
   "version": "3.10.6"
  }
 },
 "nbformat": 4,
 "nbformat_minor": 4
}
