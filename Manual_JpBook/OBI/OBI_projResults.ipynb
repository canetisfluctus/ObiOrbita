{
 "cells": [
  {
   "attachments": {},
   "cell_type": "markdown",
   "metadata": {},
   "source": [
    "# Dissemination Activities\n",
    "\n",
    "The planned dissemination activities for the Open Source Hardware project of the ObiOrbita includes a multifaceted approach to maximize outreach and engagement:\n",
    "\n",
    "**1. Publishing on GitHub:** The core of the dissemination strategy lies in publishing the project on GitHub as an open-source repository. This will serve as the central platform for sharing the design, schematics, and assembly instructions of the rebuildable Orbita. By making it freely accessible, individuals worldwide can recreate the device, fostering a collaborative community of music enthusiasts and creators.\n",
    "\n",
    "**2. Participation in Fairs:** To showcase the Orbita's potential and engage with the public, the project team plans to participate in events like the Selbstgebaute Musik Festival in Berlin on the 3rd of September 2023. These fairs offer an excellent opportunity to present the Orbita to a diverse audience, encouraging hands-on interaction and feedback.\n",
    "\n",
    "\n",
    "```"
   ]
  }
 ],
 "metadata": {
  "kernelspec": {
   "display_name": "Python 3",
   "language": "python",
   "name": "python3"
  },
  "language_info": {
   "name": "python",
   "version": "3.9.13"
  },
  "orig_nbformat": 4,
  "vscode": {
   "interpreter": {
    "hash": "b7123bc9d5bf4081fb816108306e99e391948399f439eb667db7bc2d8c5ff993"
   }
  }
 },
 "nbformat": 4,
 "nbformat_minor": 2
}
