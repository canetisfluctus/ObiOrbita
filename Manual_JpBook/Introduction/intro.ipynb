{
 "cells": [
  {
   "attachments": {},
   "cell_type": "markdown",
   "metadata": {},
   "source": [
    "# Introduction\n",
    "\n", 
    "## Product: The Orbita",
    "\n",
    "![OBI_Orbita](Orbita_Original.jpeg)\n",
    "\n",
    "Source: [Image of Orbita (Retrieved: 30.07.2023)](https://cdm.link/2021/08/playtronicas-orbita-explores-sequences-on-physical-kinetic-turntable-launching-soon/)",
    "\n",
    "The Orbita is a circular MIDI sequencer that can turn color and movement into rythms. It is based on the original [Orbita](https://orbita.playtronica.com/) by Playtronica and uses the same electronic components and color buttons.\n",
    "\n",
    "## Practice Partner: Playtronica\n",
    "\n",
    "This semesters project for the Open Source Hardware Seminar (OSHS) was initiated by the company *Playtronica* as our practice partner. With the pending launch of the MIDI sequencer *Orbita*, they were looking for a solution to make the instrument accessible to a broader crowd by implementing it as Open Source Hardware.\n",
    "\n",
    "Playtronica operates as a multifaceted entity, encompassing both a thriving startup and a vibrant community. It is an amalgamation of creative artists and skilled engineers hailing from diverse backgrounds across the world. Their endeavors range from crafting innovative devices to orchestrating captivating interactive events and installations, some of which span extensive durations, lasting from hours to even years.\n",
     "\n",
    "The founding of Playtronica traces back to 2013, marked by their initiation of music workshops for children and captivating performances at various music and science festivals. A significant milestone for the company came in 2016 with the launch of the Playtron device - a revolutionary creation that allows individuals to play music on any object capable of conducting electricity, akin to playing a piano keyboard. In 2018, they further expanded their product line with the introduction of the TouchMe device, which empowers people to produce music using their own skin as an instrument.\n",
     "\n",
     "Currently, Playtronica has successfully established offices in both Berlin and Paris, solidifying their presence in the heart of Europe and furthering their mission to innovate, entertain, and foster creativity within a global community of like-minded individuals.\n",
    "\n",
    "\n"
   ]
  },
  {
   "cell_type": "markdown",
   "metadata": {},
   "source": []
  }
 ],
 "metadata": {
  "kernelspec": {
   "display_name": "Python 3",
   "language": "python",
   "name": "python3"
  },
  "language_info": {
   "codemirror_mode": {
    "name": "ipython",
    "version": 3
   },
   "file_extension": ".py",
   "mimetype": "text/x-python",
   "name": "python",
   "nbconvert_exporter": "python",
   "pygments_lexer": "ipython3",
   "version": "3.9.13"
  },
  "vscode": {
   "interpreter": {
    "hash": "b7123bc9d5bf4081fb816108306e99e391948399f439eb667db7bc2d8c5ff993"
   }
  },
  "widgets": {
   "application/vnd.jupyter.widget-state+json": {
    "state": {},
    "version_major": 2,
    "version_minor": 0
   }
  }
 },
 "nbformat": 4,
 "nbformat_minor": 4
}
